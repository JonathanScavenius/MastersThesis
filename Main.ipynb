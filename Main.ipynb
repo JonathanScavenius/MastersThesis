{
 "cells": [
  {
   "cell_type": "code",
   "execution_count": null,
   "metadata": {},
   "outputs": [],
   "source": [
    "# Python packages \n",
    "\n",
    "#!pip install import-ipynb\n",
    "#!pip install git+https://github.com/patrick-kidger/torchcubicspline.git # this pip install shouldn't be strictly needed but kept just in case.\n",
    "\n",
    "import import_ipynb\n",
    "import pandas as pd\n",
    "import matplotlib.pyplot as plt\n",
    "import numpy as np\n",
    "import torch \n",
    "import torch.nn as nn \n",
    "import torch.optim as optim \n",
    "from torchvision import datasets\n",
    "from torchvision import transforms\n",
    "import Mymodels\n",
    "\n",
    "import Preprocess\n",
    "from torchcubicspline import(natural_cubic_spline_coeffs, \n",
    "                             NaturalCubicSpline)\n",
    "from datetime import datetime, timedelta\n",
    "from scipy.interpolate import CubicSpline\n",
    "from scipy.optimize import newton,least_squares\n",
    "from sklearn.preprocessing import StandardScaler\n",
    "from sklearn.model_selection import train_test_split\n",
    "import os"
   ]
  },
  {
   "cell_type": "code",
   "execution_count": null,
   "metadata": {},
   "outputs": [],
   "source": [
    "# Calls to Preprocess for loading of data\n",
    "\n",
    "# Swap files prefix and postfix names\n",
    "prefix = ['ad','cd','nk','sw','dk','EU','US','uk','jy']\n",
    "postfix = [\"1year.xlsx\", \"2year.xlsx\", \"3year.xlsx\", \"5year.xlsx\", \"10year.xlsx\", \"15year.xlsx\", \"20year.xlsx\", \"30year.xlsx\"]\n",
    "\n",
    "# Training data range\n",
    "date_start = \"2009-12-31\"\n",
    "date_end = \"2023-01-01\"\n",
    "\n",
    "data_path = 'data/BloombergData/'\n",
    "\n",
    "# Call to Preprocess module\n",
    "x_train, x_val= Preprocess.data_clean(Preprocess.init_cleaning(prefix, postfix, data_path, date_start, date_end))\n",
    "\n",
    "#Dividing the input data to get it in decimal\n",
    "x_train = [x[1:]/100 for x in x_train]\n",
    "x_val = [x[1:]/100 for x in x_val]\n",
    "\n",
    "#Float64 conversion for higher precision (and because Torch complains if not)\n",
    "x_val = torch.from_numpy(np.float64(x_val))\n",
    "x_train = torch.from_numpy(np.float64(x_train))\n",
    "\n",
    "# Tensorfy data and put into Train and Validation loader.\n",
    "loader = torch.utils.data.DataLoader(dataset = x_train,\n",
    "                                     batch_size = 32,\n",
    "                                     shuffle = True\n",
    "                                     )\n",
    "val_loader = torch.utils.data.DataLoader(dataset = x_val,\n",
    "                                     batch_size = 32,\n",
    "                                     shuffle = True\n",
    "                                     )"
   ]
  },
  {
   "cell_type": "code",
   "execution_count": null,
   "metadata": {},
   "outputs": [],
   "source": [
    "# Calls to model and training of models from Mymodels module.\n",
    "\n",
    "# Default maturities (should not be changed)\n",
    "maturities = np.linspace(0,30,31,endpoint=True)\n",
    "swap_maturities = [1,2,3,5,10,15, 20, 30]\n",
    "maturities_torch = torch.from_numpy(np.array([1,2,3,5,10,15, 20, 30],dtype=np.float64))\n",
    "\n",
    "# seed for deterministic starting weight in models.\n",
    "seed = 6\n",
    "Mymodels.set_seed(seed)\n",
    "\n",
    "#define your model, and its parameters\n",
    "in_features = 8\n",
    "latent_dim = 2\n",
    "aEL = Mymodels.FIRAutoEncoder(in_features,latent_dim)\n",
    "criterion = Mymodels.CustomLoss()\n",
    "optimizer = torch.optim.Adam(aEL.parameters(), lr=0.01)\n",
    "scheduler = Mymodels.CustomLRScheduler(optimizer)\n",
    "epochs = 5000 \n",
    "\n",
    "\n",
    "\n",
    "# Call to training of the specified model, change function if you change model.\n",
    "Vautoencoder, Vlosses, Voutputs, VvalLosses = Mymodels.train_ae(aEL, loader, epochs, optimizer, criterion, maturities,swap_maturities, scheduler, val_loader)"
   ]
  },
  {
   "cell_type": "code",
   "execution_count": null,
   "metadata": {},
   "outputs": [],
   "source": [
    "# Model saving\n",
    "\n",
    "#name you wish to save the model under\n",
    "name = \"Test_model\" \n",
    "torch.save({\"model_state_dict\" : Vautoencoder.state_dict(), \"optimizer_state_dict\" :optimizer.state_dict()},  \"models/model_{0}_{1}\".format(epochs,name))  \n"
   ]
  },
  {
   "cell_type": "code",
   "execution_count": null,
   "metadata": {},
   "outputs": [],
   "source": [
    "# Plot code for creating the training/validation progress of the model\n",
    "\n",
    "xlist = np.linspace(0,5000, 100)\n",
    "plt.plot(xlist, Vlosses[0::50],c=\"red\", label=\"Training Loss\")\n",
    "plt.plot(xlist,VvalLosses[0::50],c=\"blue\", label=\"Validation Loss\")\n",
    "plt.yscale(\"log\")\n",
    "plt.ylabel(\"Log Loss\")\n",
    "plt.xlabel(\"Epochs\")\n",
    "plt.legend()\n",
    "plt.savefig(\"trainval_plot\")"
   ]
  },
  {
   "cell_type": "code",
   "execution_count": null,
   "metadata": {},
   "outputs": [],
   "source": []
  }
 ],
 "metadata": {
  "language_info": {
   "name": "python"
  }
 },
 "nbformat": 4,
 "nbformat_minor": 2
}
